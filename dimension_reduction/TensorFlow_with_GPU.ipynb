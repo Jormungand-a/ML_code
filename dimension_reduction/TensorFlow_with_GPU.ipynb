{
  "nbformat": 4,
  "nbformat_minor": 0,
  "metadata": {
    "colab": {
      "name": "TensorFlow with GPU",
      "provenance": [],
      "collapsed_sections": [],
      "toc_visible": true,
      "machine_shape": "hm"
    },
    "kernelspec": {
      "display_name": "Python 3",
      "name": "python3"
    },
    "accelerator": "GPU"
  },
  "cells": [
    {
      "cell_type": "markdown",
      "metadata": {
        "colab_type": "text",
        "id": "tMce8muBqXQP"
      },
      "source": [
        "# Tensorflow with GPU\n",
        "\n",
        "This notebook provides an introduction to computing on a [GPU](https://cloud.google.com/gpu) in Colab. In this notebook you will connect to a GPU, and then run some basic TensorFlow operations on both the CPU and a GPU, observing the speedup provided by using the GPU.\n"
      ]
    },
    {
      "cell_type": "markdown",
      "metadata": {
        "colab_type": "text",
        "id": "oM_8ELnJq_wd"
      },
      "source": [
        "## Enabling and testing the GPU\n",
        "\n",
        "First, you'll need to enable GPUs for the notebook:\n",
        "\n",
        "- Navigate to Edit→Notebook Settings\n",
        "- select GPU from the Hardware Accelerator drop-down\n",
        "\n",
        "Next, we'll confirm that we can connect to the GPU with tensorflow:"
      ]
    },
    {
      "cell_type": "code",
      "metadata": {
        "id": "C8RzZGlh1EkZ",
        "colab_type": "code",
        "colab": {
          "base_uri": "https://localhost:8080/",
          "height": 35
        },
        "outputId": "5c7f8522-44ba-4bbd-d54b-5044675a597a"
      },
      "source": [
        "import os\n",
        "print(os.getcwd())"
      ],
      "execution_count": 18,
      "outputs": [
        {
          "output_type": "stream",
          "text": [
            "/content/drive/My Drive/cat_dog_car_bike.zip (Unzipped Files)/cat_dog_car_bike/test/c3\n"
          ],
          "name": "stdout"
        }
      ]
    },
    {
      "cell_type": "code",
      "metadata": {
        "id": "Y7BH7u3y1mqb",
        "colab_type": "code",
        "colab": {
          "base_uri": "https://localhost:8080/",
          "height": 35
        },
        "outputId": "9df78cc7-209c-4916-9e22-8571c4b7c52b"
      },
      "source": [
        "from google.colab import drive\n",
        "drive.mount('/content/drive')"
      ],
      "execution_count": 35,
      "outputs": [
        {
          "output_type": "stream",
          "text": [
            "Drive already mounted at /content/drive; to attempt to forcibly remount, call drive.mount(\"/content/drive\", force_remount=True).\n"
          ],
          "name": "stdout"
        }
      ]
    },
    {
      "cell_type": "code",
      "metadata": {
        "id": "4xhPuAi_41Es",
        "colab_type": "code",
        "colab": {
          "base_uri": "https://localhost:8080/",
          "height": 55
        },
        "outputId": "88ad1121-5b74-4ae5-cd14-e70bb5bac38f"
      },
      "source": [
        "\n",
        "os.chdir('/content/drive/My Drive/cat_dog_car_bike.zip (Unzipped Files)/cat_dog_car_bike/test/c3')\n",
        "print(os.listdir()[0:10])"
      ],
      "execution_count": 36,
      "outputs": [
        {
          "output_type": "stream",
          "text": [
            "['motorbike_0592.jpg', 'motorbike_0593.jpg', 'motorbike_0594.jpg', 'motorbike_0595.jpg', 'motorbike_0596.jpg', 'motorbike_0597.jpg', 'motorbike_0598.jpg', 'motorbike_0599.jpg', 'motorbike_0600.jpg', 'motorbike_0601.jpg']\n"
          ],
          "name": "stdout"
        }
      ]
    },
    {
      "cell_type": "code",
      "metadata": {
        "colab_type": "code",
        "id": "sXnDmXR7RDr2",
        "outputId": "9f380fec-0a8f-4d3f-c7ce-20c2caf50557",
        "colab": {
          "base_uri": "https://localhost:8080/",
          "height": 35
        }
      },
      "source": [
        "%tensorflow_version 2.x\n",
        "import tensorflow as tf\n",
        "device_name = tf.test.gpu_device_name()\n",
        "if device_name != '/device:GPU:0':\n",
        "  raise SystemError('GPU device not found')\n",
        "print('Found GPU at: {}'.format(device_name))"
      ],
      "execution_count": 19,
      "outputs": [
        {
          "output_type": "stream",
          "text": [
            "Found GPU at: /device:GPU:0\n"
          ],
          "name": "stdout"
        }
      ]
    },
    {
      "cell_type": "code",
      "metadata": {
        "id": "d3a2mthU1lCv",
        "colab_type": "code",
        "colab": {}
      },
      "source": [
        ""
      ],
      "execution_count": 0,
      "outputs": []
    },
    {
      "cell_type": "markdown",
      "metadata": {
        "colab_type": "text",
        "id": "v3fE7KmKRDsH"
      },
      "source": [
        "## Observe TensorFlow speedup on GPU relative to CPU\n",
        "\n",
        "This example constructs a typical convolutional neural network layer over a\n",
        "random image and manually places the resulting ops on either the CPU or the GPU\n",
        "to compare execution speed."
      ]
    },
    {
      "cell_type": "code",
      "metadata": {
        "colab_type": "code",
        "id": "Y04m-jvKRDsJ",
        "outputId": "37bf67e8-f1fb-436a-bb4f-84919afb8a86",
        "colab": {
          "base_uri": "https://localhost:8080/",
          "height": 121
        }
      },
      "source": [
        "%tensorflow_version 2.x\n",
        "import tensorflow as tf\n",
        "import timeit\n",
        "\n",
        "device_name = tf.test.gpu_device_name()\n",
        "if device_name != '/device:GPU:0':\n",
        "  print(\n",
        "      '\\n\\nThis error most likely means that this notebook is not '\n",
        "      'configured to use a GPU.  Change this in Notebook Settings via the '\n",
        "      'command palette (cmd/ctrl-shift-P) or the Edit menu.\\n\\n')\n",
        "  raise SystemError('GPU device not found')\n",
        "\n",
        "def cpu():\n",
        "  with tf.device('/cpu:0'):\n",
        "    random_image_cpu = tf.random.normal((100, 100, 100, 3))\n",
        "    net_cpu = tf.keras.layers.Conv2D(32, 7)(random_image_cpu)\n",
        "    return tf.math.reduce_sum(net_cpu)\n",
        "\n",
        "def gpu():\n",
        "  with tf.device('/device:GPU:0'):\n",
        "    random_image_gpu = tf.random.normal((100, 100, 100, 3))\n",
        "    net_gpu = tf.keras.layers.Conv2D(32, 7)(random_image_gpu)\n",
        "    return tf.math.reduce_sum(net_gpu)\n",
        "  \n",
        "# We run each op once to warm up; see: https://stackoverflow.com/a/45067900\n",
        "cpu()\n",
        "gpu()\n",
        "\n",
        "# Run the op several times.\n",
        "print('Time (s) to convolve 32x7x7x3 filter over random 100x100x100x3 images '\n",
        "      '(batch x height x width x channel). Sum of ten runs.')\n",
        "print('CPU (s):')\n",
        "cpu_time = timeit.timeit('cpu()', number=10, setup=\"from __main__ import cpu\")\n",
        "print(cpu_time)\n",
        "print('GPU (s):')\n",
        "gpu_time = timeit.timeit('gpu()', number=10, setup=\"from __main__ import gpu\")\n",
        "print(gpu_time)\n",
        "print('GPU speedup over CPU: {}x'.format(int(cpu_time/gpu_time)))"
      ],
      "execution_count": 6,
      "outputs": [
        {
          "output_type": "stream",
          "text": [
            "Time (s) to convolve 32x7x7x3 filter over random 100x100x100x3 images (batch x height x width x channel). Sum of ten runs.\n",
            "CPU (s):\n",
            "2.915958681999996\n",
            "GPU (s):\n",
            "0.0500925000000052\n",
            "GPU speedup over CPU: 58x\n"
          ],
          "name": "stdout"
        }
      ]
    },
    {
      "cell_type": "code",
      "metadata": {
        "id": "wY6RP-cjB-b8",
        "colab_type": "code",
        "colab": {}
      },
      "source": [
        "from tensorflow.keras import layers\n",
        "from tensorflow.keras import models\n",
        "from tensorflow.keras.applications import VGG16\n",
        "from tensorflow.keras.applications import VGG19\n",
        "from tensorflow.keras import layers\n",
        "from tensorflow.keras import models\n",
        "from tensorflow.keras import optimizers\n",
        "import tensorflow.keras as keras\n",
        "import cv2\n",
        "import numpy\n",
        "import os\n",
        "import matplotlib.pyplot as plt"
      ],
      "execution_count": 0,
      "outputs": []
    },
    {
      "cell_type": "code",
      "metadata": {
        "id": "pl5fpqLhDLy6",
        "colab_type": "code",
        "colab": {
          "base_uri": "https://localhost:8080/",
          "height": 622
        },
        "outputId": "a1a447f4-dc57-463c-8f3f-23d065e5e3f9"
      },
      "source": [
        "def loadtrain():\n",
        "    l=['/content/drive/My Drive/cat_dog_car_bike.zip (Unzipped Files)/cat_dog_car_bike/train/c0','/content/drive/My Drive/cat_dog_car_bike.zip (Unzipped Files)/cat_dog_car_bike/train/c1'\n",
        "       ,'/content/drive/My Drive/cat_dog_car_bike.zip (Unzipped Files)/cat_dog_car_bike/train/c2','/content/drive/My Drive/cat_dog_car_bike.zip (Unzipped Files)/cat_dog_car_bike/train/c3']\n",
        "    train_data=[]\n",
        "    train_label=[]\n",
        "    for x in range(4):\n",
        "        os.chdir(l[x])\n",
        "        ggg=0\n",
        "        img_list=os.listdir()\n",
        "        for file in img_list:\n",
        "            ggg=ggg+1\n",
        "            img=cv2.imread(file)\n",
        "            img2 = cv2.resize(img, dsize=(128, 128), interpolation=cv2.INTER_CUBIC)\n",
        "            train_data.append(img2)\n",
        "            label=numpy.zeros(4,)\n",
        "            label[x]=1\n",
        "            train_label.append(label)\n",
        "            if ggg%50==0:\n",
        "              print(ggg)\n",
        "        print(x)\n",
        "    train_label=numpy.array(train_label)\n",
        "    train_label=numpy.float32(train_label)\n",
        "    train_data=numpy.array(train_data)\n",
        "    train_data=numpy.float32(train_data)\n",
        "    train_data=(train_data-128)/128\n",
        "    return train_data, train_label\n",
        "\n",
        "train_data,train_label = loadtrain()\n"
      ],
      "execution_count": 28,
      "outputs": [
        {
          "output_type": "stream",
          "text": [
            "50\n",
            "100\n",
            "150\n",
            "200\n",
            "250\n",
            "300\n",
            "350\n",
            "400\n",
            "0\n",
            "50\n",
            "100\n",
            "150\n",
            "200\n",
            "250\n",
            "300\n",
            "350\n",
            "1\n",
            "50\n",
            "100\n",
            "150\n",
            "200\n",
            "250\n",
            "300\n",
            "350\n",
            "400\n",
            "450\n",
            "2\n",
            "50\n",
            "100\n",
            "150\n",
            "200\n",
            "250\n",
            "300\n",
            "350\n",
            "3\n"
          ],
          "name": "stdout"
        }
      ]
    },
    {
      "cell_type": "code",
      "metadata": {
        "id": "7GTc5GKjGLUr",
        "colab_type": "code",
        "colab": {
          "base_uri": "https://localhost:8080/",
          "height": 35
        },
        "outputId": "8ab1c7ed-fc6c-41f3-8517-296045b29be7"
      },
      "source": [
        "train_data.shape"
      ],
      "execution_count": 7,
      "outputs": [
        {
          "output_type": "execute_result",
          "data": {
            "text/plain": [
              "(1675, 128, 128, 3)"
            ]
          },
          "metadata": {
            "tags": []
          },
          "execution_count": 7
        }
      ]
    },
    {
      "cell_type": "code",
      "metadata": {
        "id": "QjQFbm5rGVAS",
        "colab_type": "code",
        "colab": {}
      },
      "source": [
        "def loadval():\n",
        "    l=['/content/drive/My Drive/cat_dog_car_bike.zip (Unzipped Files)/cat_dog_car_bike/val/c0','/content/drive/My Drive/cat_dog_car_bike.zip (Unzipped Files)/cat_dog_car_bike/val/c1'\n",
        "       ,'/content/drive/My Drive/cat_dog_car_bike.zip (Unzipped Files)/cat_dog_car_bike/val/c2','/content/drive/My Drive/cat_dog_car_bike.zip (Unzipped Files)/cat_dog_car_bike/val/c3']\n",
        "    val_data = []\n",
        "    val_label = []\n",
        "    for x in range(4):\n",
        "        os.chdir(l[x])\n",
        "        img_list = os.listdir()\n",
        "        for file in img_list:\n",
        "            img = cv2.imread(file)\n",
        "            img2 = cv2.resize(img, dsize=(128, 128), interpolation=cv2.INTER_CUBIC)\n",
        "            val_data.append(img2)\n",
        "            label = numpy.zeros(4, )\n",
        "            label[x] = 1\n",
        "            val_label.append(label)\n",
        "    val_data=numpy.array(val_data)\n",
        "    val_label=numpy.array(val_label)\n",
        "    val_data=numpy.float32(val_data)\n",
        "    val_data=(val_data-128)/128\n",
        "    val_label=numpy.float32(val_label)\n",
        "    return val_data, val_label\n",
        "\n",
        "val_data,val_label = loadval()"
      ],
      "execution_count": 0,
      "outputs": []
    },
    {
      "cell_type": "code",
      "metadata": {
        "id": "myTDxlPuHo6X",
        "colab_type": "code",
        "colab": {}
      },
      "source": [
        "def augment(data,label):\n",
        "    lis1,lis2=[],[]\n",
        "    l=data.shape[0]\n",
        "    for i in range(l):\n",
        "        img=data[i]\n",
        "        lab=label[i]\n",
        "        #img2=cv2.flip(img,0)\n",
        "        img3=cv2.flip(img,1)\n",
        "        lis1=lis1+[img,img3]\n",
        "        lis2=lis2+[lab,lab]\n",
        "    lis1=numpy.array(lis1)\n",
        "    lis2=numpy.array(lis2)\n",
        "    lis1=numpy.float32(lis1)\n",
        "    lis2=numpy.float32(lis2)\n",
        "    return lis1,lis2\n"
      ],
      "execution_count": 0,
      "outputs": []
    },
    {
      "cell_type": "code",
      "metadata": {
        "id": "QYlHivBmH_Qo",
        "colab_type": "code",
        "colab": {}
      },
      "source": [
        "def transfer_learning_with_vggnet():\n",
        "    \"\"\"Return model built on pre-trained VGG16.\"\"\"\n",
        "    #######\n",
        "    base_model = VGG19(include_top=False, weights='imagenet', input_shape=(128,128,3))\n",
        "    for layer in base_model.layers:\n",
        "        layer.trainable = False\n",
        "    mod =models.Sequential([\n",
        "        base_model,\n",
        "        layers.Flatten(),\n",
        "        layers.Dense(512),\n",
        "        layers.Activation('relu'),\n",
        "        layers.Dense(4),\n",
        "        layers.Activation('softmax'),\n",
        "    ])\n",
        "    #######\n",
        "    return mod"
      ],
      "execution_count": 0,
      "outputs": []
    },
    {
      "cell_type": "code",
      "metadata": {
        "id": "KqhU1Z9EIAfF",
        "colab_type": "code",
        "colab": {
          "base_uri": "https://localhost:8080/",
          "height": 397
        },
        "outputId": "ca4b709d-2be6-47b8-cca5-665c811fd6b6"
      },
      "source": [
        "model = transfer_learning_with_vggnet()\n",
        "model.summary()"
      ],
      "execution_count": 53,
      "outputs": [
        {
          "output_type": "stream",
          "text": [
            "Downloading data from https://storage.googleapis.com/tensorflow/keras-applications/vgg19/vgg19_weights_tf_dim_ordering_tf_kernels_notop.h5\n",
            "80142336/80134624 [==============================] - 1s 0us/step\n",
            "Model: \"sequential_5\"\n",
            "_________________________________________________________________\n",
            "Layer (type)                 Output Shape              Param #   \n",
            "=================================================================\n",
            "vgg19 (Model)                (None, 4, 4, 512)         20024384  \n",
            "_________________________________________________________________\n",
            "flatten_5 (Flatten)          (None, 8192)              0         \n",
            "_________________________________________________________________\n",
            "dense_10 (Dense)             (None, 512)               4194816   \n",
            "_________________________________________________________________\n",
            "activation_10 (Activation)   (None, 512)               0         \n",
            "_________________________________________________________________\n",
            "dense_11 (Dense)             (None, 4)                 2052      \n",
            "_________________________________________________________________\n",
            "activation_11 (Activation)   (None, 4)                 0         \n",
            "=================================================================\n",
            "Total params: 24,221,252\n",
            "Trainable params: 4,196,868\n",
            "Non-trainable params: 20,024,384\n",
            "_________________________________________________________________\n"
          ],
          "name": "stdout"
        }
      ]
    },
    {
      "cell_type": "code",
      "metadata": {
        "id": "9u2tnijeJL6o",
        "colab_type": "code",
        "colab": {
          "base_uri": "https://localhost:8080/",
          "height": 610
        },
        "outputId": "cc1e7c3b-3166-4281-ee0e-b3ca44e98397"
      },
      "source": [
        "model = transfer_learning_with_vggnet()\n",
        "with tf.device('/device:GPU:0'):\n",
        "    \n",
        "    model.compile(optimizer=optimizers.RMSprop(learning_rate=0.001),\n",
        "                  loss=keras.losses.categorical_crossentropy,\n",
        "                  metrics=['accuracy'])\n",
        "    train_data, train_label = augment(train_data,train_label)\n",
        "\n",
        "\n",
        "    history = model.fit(train_data, train_label,\n",
        "                        batch_size=20, epochs=10, shuffle=True,\n",
        "                        validation_data=(val_data, val_label))\n",
        "    plt.plot(history.history['loss'], label='train loss')\n",
        "    plt.plot(history.history['accuracy'], label='train acc')\n",
        "    plt.plot(history.history['val_accuracy'], label='val acc')\n",
        "    plt.plot(history.history['val_loss'], label='val loss')\n",
        "    plt.legend(loc=\"upper right\")\n",
        "    plt.show()"
      ],
      "execution_count": 34,
      "outputs": [
        {
          "output_type": "stream",
          "text": [
            "Epoch 1/10\n",
            "252/252 [==============================] - 8s 30ms/step - loss: 0.3859 - accuracy: 0.9244 - val_loss: 0.0780 - val_accuracy: 0.9677\n",
            "Epoch 2/10\n",
            "252/252 [==============================] - 7s 28ms/step - loss: 0.1006 - accuracy: 0.9698 - val_loss: 0.6909 - val_accuracy: 0.8754\n",
            "Epoch 3/10\n",
            "252/252 [==============================] - 7s 29ms/step - loss: 0.0610 - accuracy: 0.9821 - val_loss: 0.2162 - val_accuracy: 0.9557\n",
            "Epoch 4/10\n",
            "252/252 [==============================] - 7s 28ms/step - loss: 0.0451 - accuracy: 0.9899 - val_loss: 0.2849 - val_accuracy: 0.9545\n",
            "Epoch 5/10\n",
            "252/252 [==============================] - 7s 28ms/step - loss: 0.0284 - accuracy: 0.9916 - val_loss: 0.2228 - val_accuracy: 0.9653\n",
            "Epoch 6/10\n",
            "252/252 [==============================] - 7s 29ms/step - loss: 0.0256 - accuracy: 0.9946 - val_loss: 0.2818 - val_accuracy: 0.9677\n",
            "Epoch 7/10\n",
            "252/252 [==============================] - 7s 29ms/step - loss: 0.0163 - accuracy: 0.9960 - val_loss: 0.3362 - val_accuracy: 0.9665\n",
            "Epoch 8/10\n",
            "252/252 [==============================] - 7s 29ms/step - loss: 0.0140 - accuracy: 0.9984 - val_loss: 0.2884 - val_accuracy: 0.9725\n",
            "Epoch 9/10\n",
            "252/252 [==============================] - 7s 29ms/step - loss: 0.0140 - accuracy: 0.9972 - val_loss: 0.3578 - val_accuracy: 0.9701\n",
            "Epoch 10/10\n",
            "252/252 [==============================] - 7s 29ms/step - loss: 0.0044 - accuracy: 0.9996 - val_loss: 0.3234 - val_accuracy: 0.9713\n"
          ],
          "name": "stdout"
        },
        {
          "output_type": "display_data",
          "data": {
            "image/png": "[encoded data removed]",
            "text/plain": [
              "<Figure size 432x288 with 1 Axes>"
            ]
          },
          "metadata": {
            "tags": [],
            "needs_background": "light"
          }
        }
      ]
    },
    {
      "cell_type": "code",
      "metadata": {
        "id": "hlZBYC-JIrcV",
        "colab_type": "code",
        "colab": {
          "base_uri": "https://localhost:8080/",
          "height": 610
        },
        "outputId": "e76053f5-5caf-45a4-9802-3dded9f6a62e"
      },
      "source": [
        "with tf.device('/device:GPU:0'):\n",
        "    \n",
        "    model.compile(optimizer=optimizers.RMSprop(learning_rate=0.001),\n",
        "                  loss=keras.losses.categorical_crossentropy,\n",
        "                  metrics=['accuracy'])\n",
        "    #train_data, train_label = augment(train_data,train_label)\n",
        "\n",
        "\n",
        "    history = model.fit(train_data, train_label,\n",
        "                        batch_size=20, epochs=10, shuffle=True,\n",
        "                        validation_data=(val_data, val_label))\n",
        "    plt.plot(history.history['loss'], label='train loss')\n",
        "    plt.plot(history.history['accuracy'], label='train acc')\n",
        "    plt.plot(history.history['val_accuracy'], label='val acc')\n",
        "    plt.plot(history.history['val_loss'], label='val loss')\n",
        "    plt.legend(loc=\"upper right\")\n",
        "    plt.show()"
      ],
      "execution_count": 33,
      "outputs": [
        {
          "output_type": "stream",
          "text": [
            "Epoch 1/10\n",
            "84/84 [==============================] - 3s 38ms/step - loss: 0.1722 - accuracy: 0.9636 - val_loss: 0.1964 - val_accuracy: 0.9653\n",
            "Epoch 2/10\n",
            "84/84 [==============================] - 3s 36ms/step - loss: 0.0798 - accuracy: 0.9845 - val_loss: 0.1227 - val_accuracy: 0.9796\n",
            "Epoch 3/10\n",
            "84/84 [==============================] - 3s 36ms/step - loss: 0.0546 - accuracy: 0.9922 - val_loss: 0.3763 - val_accuracy: 0.9545\n",
            "Epoch 4/10\n",
            "84/84 [==============================] - 3s 37ms/step - loss: 0.0126 - accuracy: 0.9976 - val_loss: 0.1525 - val_accuracy: 0.9737\n",
            "Epoch 5/10\n",
            "84/84 [==============================] - 3s 36ms/step - loss: 0.0589 - accuracy: 0.9946 - val_loss: 0.4649 - val_accuracy: 0.9449\n",
            "Epoch 6/10\n",
            "84/84 [==============================] - 3s 36ms/step - loss: 0.0267 - accuracy: 0.9970 - val_loss: 0.2548 - val_accuracy: 0.9677\n",
            "Epoch 7/10\n",
            "84/84 [==============================] - 3s 36ms/step - loss: 1.0473e-05 - accuracy: 1.0000 - val_loss: 0.2841 - val_accuracy: 0.9617\n",
            "Epoch 8/10\n",
            "84/84 [==============================] - 3s 36ms/step - loss: 0.0345 - accuracy: 0.9970 - val_loss: 0.4974 - val_accuracy: 0.9629\n",
            "Epoch 9/10\n",
            "84/84 [==============================] - 3s 36ms/step - loss: 1.7245e-04 - accuracy: 1.0000 - val_loss: 0.2314 - val_accuracy: 0.9737\n",
            "Epoch 10/10\n",
            "84/84 [==============================] - 3s 36ms/step - loss: 0.0178 - accuracy: 0.9976 - val_loss: 0.2747 - val_accuracy: 0.9725\n"
          ],
          "name": "stdout"
        },
        {
          "output_type": "display_data",
          "data": {
            "image/png": "[encoded data removed]",
            "text/plain": [
              "<Figure size 432x288 with 1 Axes>"
            ]
          },
          "metadata": {
            "tags": [],
            "needs_background": "light"
          }
        }
      ]
    },
    {
      "cell_type": "code",
      "metadata": {
        "id": "hVprDlRfMZqG",
        "colab_type": "code",
        "colab": {}
      },
      "source": [
        "def aug2(data,label):\n",
        "    lis1, lis2 = [], []\n",
        "    l = data.shape[0]\n",
        "    for i in range(l):\n",
        "        img=data[i]\n",
        "        lab=label[i]\n",
        "        img0 = cv2.resize(img, dsize=(136, 136), interpolation=cv2.INTER_CUBIC)\n",
        "        img1=img0[0:128,0:128]\n",
        "        img2=img0[0:128,6:134]\n",
        "        img3=img0[6:134,0:128]\n",
        "        img4=img0[6:134,6:134]\n",
        "\n",
        "        lis1=lis1+[img,img1,img2,img3,img4]\n",
        "        lis2=lis2+[lab,lab,lab,lab,lab]\n",
        "    lis1=numpy.array(lis1)\n",
        "    lis2=numpy.array(lis2)\n",
        "    #lis1=numpy.float32(lis1)\n",
        "    #lis2=numpy.float32(lis2)\n",
        "    return lis1,lis2"
      ],
      "execution_count": 0,
      "outputs": []
    },
    {
      "cell_type": "code",
      "metadata": {
        "id": "zwHIn116JNIy",
        "colab_type": "code",
        "colab": {
          "base_uri": "https://localhost:8080/",
          "height": 35
        },
        "outputId": "aa0f68eb-fe28-41f1-a1d9-d2ece4a321c3"
      },
      "source": [
        "train_data.shape"
      ],
      "execution_count": 37,
      "outputs": [
        {
          "output_type": "execute_result",
          "data": {
            "text/plain": [
              "(1675, 128, 128, 3)"
            ]
          },
          "metadata": {
            "tags": []
          },
          "execution_count": 37
        }
      ]
    },
    {
      "cell_type": "code",
      "metadata": {
        "id": "a_12L0wMMizd",
        "colab_type": "code",
        "colab": {}
      },
      "source": [
        "train_data5,train_label5=aug2(train_data,train_label)"
      ],
      "execution_count": 0,
      "outputs": []
    },
    {
      "cell_type": "code",
      "metadata": {
        "id": "C1KsocHZNyWP",
        "colab_type": "code",
        "colab": {
          "base_uri": "https://localhost:8080/",
          "height": 35
        },
        "outputId": "9131677f-a257-49d8-aaab-327f9e5b29ea"
      },
      "source": [
        "train_data5.dtype"
      ],
      "execution_count": 45,
      "outputs": [
        {
          "output_type": "execute_result",
          "data": {
            "text/plain": [
              "dtype('float32')"
            ]
          },
          "metadata": {
            "tags": []
          },
          "execution_count": 45
        }
      ]
    },
    {
      "cell_type": "code",
      "metadata": {
        "id": "XvuqPl15N_GZ",
        "colab_type": "code",
        "colab": {
          "base_uri": "https://localhost:8080/",
          "height": 830
        },
        "outputId": "179af9d7-5e16-4fa5-af99-0bf3e5bc8b6e"
      },
      "source": [
        "with tf.device('/device:GPU:0'):\n",
        "    model2 = transfer_learning_with_vggnet()\n",
        "    model2.compile(optimizer=optimizers.Adam(learning_rate=0.001),\n",
        "                  loss=keras.losses.categorical_crossentropy,\n",
        "                  metrics=['accuracy'])\n",
        "    train_data5, train_label5 = augment(train_data,train_label)\n",
        "    train_data5, train_label5 = aug2(train_data5,train_label5)\n",
        "    val_data5, val_label5 = augment(val_data,val_label)\n",
        "    val_data5,val_label5=aug2(val_data5,val_label5)\n",
        "    train_data5=numpy.concatenate((train_data5,val_data5))\n",
        "    train_label5=numpy.concatenate((train_label5,val_label5))\n",
        "    history = model2.fit(train_data5, train_label5,\n",
        "                        batch_size=40, epochs=10, shuffle=True)\n",
        "                        #validation_data=(val_data, val_label))\n",
        "    plt.plot(history.history['loss'], label='train loss')\n",
        "    plt.plot(history.history['accuracy'], label='train acc')\n",
        "    plt.plot(history.history['val_accuracy'], label='val acc')\n",
        "    plt.plot(history.history['val_loss'], label='val loss')\n",
        "    plt.legend(loc=\"upper right\")\n",
        "    plt.show()"
      ],
      "execution_count": 56,
      "outputs": [
        {
          "output_type": "stream",
          "text": [
            "Epoch 1/10\n",
            "628/628 [==============================] - 103s 164ms/step - loss: 0.0586 - accuracy: 0.9836\n",
            "Epoch 2/10\n",
            "628/628 [==============================] - 103s 164ms/step - loss: 0.0036 - accuracy: 0.9989\n",
            "Epoch 3/10\n",
            "628/628 [==============================] - 103s 163ms/step - loss: 0.0090 - accuracy: 0.9973\n",
            "Epoch 4/10\n",
            "628/628 [==============================] - 103s 164ms/step - loss: 0.0044 - accuracy: 0.9984\n",
            "Epoch 5/10\n",
            "628/628 [==============================] - 103s 163ms/step - loss: 0.0011 - accuracy: 0.9996\n",
            "Epoch 6/10\n",
            "628/628 [==============================] - 103s 164ms/step - loss: 0.0139 - accuracy: 0.9961\n",
            "Epoch 7/10\n",
            "628/628 [==============================] - 103s 164ms/step - loss: 8.2718e-04 - accuracy: 0.9998\n",
            "Epoch 8/10\n",
            "628/628 [==============================] - 103s 164ms/step - loss: 1.7472e-04 - accuracy: 1.0000\n",
            "Epoch 9/10\n",
            "628/628 [==============================] - 103s 163ms/step - loss: 5.3479e-06 - accuracy: 1.0000\n",
            "Epoch 10/10\n",
            "628/628 [==============================] - 103s 164ms/step - loss: 3.3644e-06 - accuracy: 1.0000\n"
          ],
          "name": "stdout"
        },
        {
          "output_type": "error",
          "ename": "KeyError",
          "evalue": "ignored",
          "traceback": [
            "\u001b[0;31m---------------------------------------------------------------------------\u001b[0m",
            "\u001b[0;31mKeyError\u001b[0m                                  Traceback (most recent call last)",
            "\u001b[0;32m<ipython-input-56-9e4b40ed441d>\u001b[0m in \u001b[0;36m<module>\u001b[0;34m()\u001b[0m\n\u001b[1;32m     15\u001b[0m     \u001b[0mplt\u001b[0m\u001b[0;34m.\u001b[0m\u001b[0mplot\u001b[0m\u001b[0;34m(\u001b[0m\u001b[0mhistory\u001b[0m\u001b[0;34m.\u001b[0m\u001b[0mhistory\u001b[0m\u001b[0;34m[\u001b[0m\u001b[0;34m'loss'\u001b[0m\u001b[0;34m]\u001b[0m\u001b[0;34m,\u001b[0m \u001b[0mlabel\u001b[0m\u001b[0;34m=\u001b[0m\u001b[0;34m'train loss'\u001b[0m\u001b[0;34m)\u001b[0m\u001b[0;34m\u001b[0m\u001b[0;34m\u001b[0m\u001b[0m\n\u001b[1;32m     16\u001b[0m     \u001b[0mplt\u001b[0m\u001b[0;34m.\u001b[0m\u001b[0mplot\u001b[0m\u001b[0;34m(\u001b[0m\u001b[0mhistory\u001b[0m\u001b[0;34m.\u001b[0m\u001b[0mhistory\u001b[0m\u001b[0;34m[\u001b[0m\u001b[0;34m'accuracy'\u001b[0m\u001b[0;34m]\u001b[0m\u001b[0;34m,\u001b[0m \u001b[0mlabel\u001b[0m\u001b[0;34m=\u001b[0m\u001b[0;34m'train acc'\u001b[0m\u001b[0;34m)\u001b[0m\u001b[0;34m\u001b[0m\u001b[0;34m\u001b[0m\u001b[0m\n\u001b[0;32m---> 17\u001b[0;31m     \u001b[0mplt\u001b[0m\u001b[0;34m.\u001b[0m\u001b[0mplot\u001b[0m\u001b[0;34m(\u001b[0m\u001b[0mhistory\u001b[0m\u001b[0;34m.\u001b[0m\u001b[0mhistory\u001b[0m\u001b[0;34m[\u001b[0m\u001b[0;34m'val_accuracy'\u001b[0m\u001b[0;34m]\u001b[0m\u001b[0;34m,\u001b[0m \u001b[0mlabel\u001b[0m\u001b[0;34m=\u001b[0m\u001b[0;34m'val acc'\u001b[0m\u001b[0;34m)\u001b[0m\u001b[0;34m\u001b[0m\u001b[0;34m\u001b[0m\u001b[0m\n\u001b[0m\u001b[1;32m     18\u001b[0m     \u001b[0mplt\u001b[0m\u001b[0;34m.\u001b[0m\u001b[0mplot\u001b[0m\u001b[0;34m(\u001b[0m\u001b[0mhistory\u001b[0m\u001b[0;34m.\u001b[0m\u001b[0mhistory\u001b[0m\u001b[0;34m[\u001b[0m\u001b[0;34m'val_loss'\u001b[0m\u001b[0;34m]\u001b[0m\u001b[0;34m,\u001b[0m \u001b[0mlabel\u001b[0m\u001b[0;34m=\u001b[0m\u001b[0;34m'val loss'\u001b[0m\u001b[0;34m)\u001b[0m\u001b[0;34m\u001b[0m\u001b[0;34m\u001b[0m\u001b[0m\n\u001b[1;32m     19\u001b[0m     \u001b[0mplt\u001b[0m\u001b[0;34m.\u001b[0m\u001b[0mlegend\u001b[0m\u001b[0;34m(\u001b[0m\u001b[0mloc\u001b[0m\u001b[0;34m=\u001b[0m\u001b[0;34m\"upper right\"\u001b[0m\u001b[0;34m)\u001b[0m\u001b[0;34m\u001b[0m\u001b[0;34m\u001b[0m\u001b[0m\n",
            "\u001b[0;31mKeyError\u001b[0m: 'val_accuracy'"
          ]
        },
        {
          "output_type": "display_data",
          "data": {
            "image/png": "[encoded data removed]",
            "text/plain": [
              "<Figure size 432x288 with 1 Axes>"
            ]
          },
          "metadata": {
            "tags": [],
            "needs_background": "light"
          }
        }
      ]
    },
    {
      "cell_type": "code",
      "metadata": {
        "id": "z0Qzt-uxP6x8",
        "colab_type": "code",
        "colab": {
          "base_uri": "https://localhost:8080/",
          "height": 52
        },
        "outputId": "b99140f2-97cd-4708-df5d-b80b7dcf8f7e"
      },
      "source": [
        "\n",
        "model2.evaluate(tdata,tlabel)"
      ],
      "execution_count": 57,
      "outputs": [
        {
          "output_type": "stream",
          "text": [
            "7/7 [==============================] - 1s 96ms/step - loss: 0.1890 - accuracy: 0.9750\n"
          ],
          "name": "stdout"
        },
        {
          "output_type": "execute_result",
          "data": {
            "text/plain": [
              "[0.18897958099842072, 0.9750000238418579]"
            ]
          },
          "metadata": {
            "tags": []
          },
          "execution_count": 57
        }
      ]
    },
    {
      "cell_type": "code",
      "metadata": {
        "id": "eZG6pAgoVrYR",
        "colab_type": "code",
        "colab": {}
      },
      "source": [
        "model2.save('all_no_vertical.h5')"
      ],
      "execution_count": 0,
      "outputs": []
    },
    {
      "cell_type": "code",
      "metadata": {
        "id": "zXgW4dytRtzU",
        "colab_type": "code",
        "colab": {}
      },
      "source": [
        "os.chdir('/content/drive/My Drive')"
      ],
      "execution_count": 0,
      "outputs": []
    },
    {
      "cell_type": "code",
      "metadata": {
        "id": "_2wGNnVSSFmB",
        "colab_type": "code",
        "colab": {
          "base_uri": "https://localhost:8080/",
          "height": 52
        },
        "outputId": "5bf9b9bf-d521-4ed3-d243-188bf33bf0c1"
      },
      "source": [
        "new_model = keras.models.load_model('all_no_vertical.h5')\n",
        "vd,vl=aug2(tdata,tlabel)\n",
        "new_model.evaluate(tdata,tlabel)"
      ],
      "execution_count": 83,
      "outputs": [
        {
          "output_type": "stream",
          "text": [
            "7/7 [==============================] - 1s 80ms/step - loss: 0.0578 - accuracy: 0.9850\n"
          ],
          "name": "stdout"
        },
        {
          "output_type": "execute_result",
          "data": {
            "text/plain": [
              "[0.057782091200351715, 0.9850000143051147]"
            ]
          },
          "metadata": {
            "tags": []
          },
          "execution_count": 83
        }
      ]
    },
    {
      "cell_type": "code",
      "metadata": {
        "id": "FxSiIgV0r5Wy",
        "colab_type": "code",
        "colab": {
          "base_uri": "https://localhost:8080/",
          "height": 155
        },
        "outputId": "6d31ce7b-a0f0-4831-f27c-91d4f48f04d5"
      },
      "source": [
        "def loadtest():\n",
        "    l=['/content/drive/My Drive/cat_dog_car_bike.zip (Unzipped Files)/cat_dog_car_bike/test/c0','/content/drive/My Drive/cat_dog_car_bike.zip (Unzipped Files)/cat_dog_car_bike/test/c1','/content/drive/My Drive/cat_dog_car_bike.zip (Unzipped Files)/cat_dog_car_bike/test/c2','/content/drive/My Drive/cat_dog_car_bike.zip (Unzipped Files)/cat_dog_car_bike/test/c3']\n",
        "    train_data=[]\n",
        "    train_label=[]\n",
        "    for x in range(4):\n",
        "        os.chdir(l[x])\n",
        "        ggg=0\n",
        "        img_list=os.listdir()\n",
        "        for file in img_list:\n",
        "            ggg=ggg+1\n",
        "            img=cv2.imread(file)\n",
        "            img2 = cv2.resize(img, dsize=(128, 128), interpolation=cv2.INTER_CUBIC)\n",
        "            train_data.append(img2)\n",
        "            label=numpy.zeros(4,)\n",
        "            label[x]=1\n",
        "            train_label.append(label)\n",
        "            if ggg%50==0:\n",
        "              print(ggg)\n",
        "        print(x)\n",
        "    train_label=numpy.array(train_label)\n",
        "    train_label=numpy.float32(train_label)\n",
        "    train_data=numpy.array(train_data)\n",
        "    train_data=numpy.float32(train_data)\n",
        "    train_data=(train_data-128)/128\n",
        "    return train_data, train_label\n",
        "\n",
        "tdata,tlabel = loadtest()"
      ],
      "execution_count": 70,
      "outputs": [
        {
          "output_type": "stream",
          "text": [
            "50\n",
            "0\n",
            "50\n",
            "1\n",
            "50\n",
            "2\n",
            "50\n",
            "3\n"
          ],
          "name": "stdout"
        }
      ]
    },
    {
      "cell_type": "code",
      "metadata": {
        "id": "_y0kOOH-1FZu",
        "colab_type": "code",
        "colab": {
          "base_uri": "https://localhost:8080/",
          "height": 35
        },
        "outputId": "48da4210-2e4c-4295-9ece-dd29e401a273"
      },
      "source": [
        "tdata.shape\n"
      ],
      "execution_count": 71,
      "outputs": [
        {
          "output_type": "execute_result",
          "data": {
            "text/plain": [
              "(200, 128, 128, 3)"
            ]
          },
          "metadata": {
            "tags": []
          },
          "execution_count": 71
        }
      ]
    }
  ]
}